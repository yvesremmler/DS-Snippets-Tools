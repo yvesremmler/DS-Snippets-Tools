{
 "cells": [
  {
   "cell_type": "code",
   "execution_count": null,
   "metadata": {},
   "outputs": [],
   "source": [
    "# Import Packages\n",
    "import pandas as pd\n",
    "import geopandas as gpd\n"
   ]
  },
  {
   "cell_type": "code",
   "execution_count": null,
   "metadata": {},
   "outputs": [],
   "source": [
    "# read in Shape Files\n",
    "# source counties: https://catalog.data.gov/dataset/tiger-line-shapefile-2019-nation-u-s-current-county-and-equivalent-national-shapefile\n",
    "# source states: https://catalog.data.gov/dataset/tiger-line-shapefile-2017-nation-u-s-current-state-and-equivalent-national\n",
    "\n",
    "counties = gpd.read_file('tl_2019_us_county.shp')\n",
    "states = gpd.read_file('tl_2017_us_state.shp')"
   ]
  },
  {
   "cell_type": "code",
   "execution_count": null,
   "metadata": {},
   "outputs": [],
   "source": [
    "# drop non contiguous states\n",
    "states = states[states['STATEFP'] != '02']\n",
    "states = states[states['STATEFP'] != '15']\n",
    "states = states[states['STATEFP'] != '60']\n",
    "states = states[states['STATEFP'] != '66']\n",
    "states = states[states['STATEFP'] != '69']\n",
    "states = states[states['STATEFP'] != '72']\n",
    "states = states[states['STATEFP'] != '78']"
   ]
  },
  {
   "cell_type": "code",
   "execution_count": null,
   "metadata": {},
   "outputs": [],
   "source": [
    "# drop non contiguous counties\n",
    "counties = counties[counties['STATEFP'] != '02']\n",
    "counties = counties[counties['STATEFP'] != '15']\n",
    "counties = counties[counties['STATEFP'] != '60']\n",
    "counties = counties[counties['STATEFP'] != '66']\n",
    "counties = counties[counties['STATEFP'] != '69']\n",
    "counties = counties[counties['STATEFP'] != '72']\n",
    "counties = counties[counties['STATEFP'] != '78']"
   ]
  },
  {
   "cell_type": "code",
   "execution_count": null,
   "metadata": {},
   "outputs": [],
   "source": [
    "states.plot(figsize=(20, 20))"
   ]
  },
  {
   "cell_type": "code",
   "execution_count": null,
   "metadata": {},
   "outputs": [],
   "source": [
    "counties.plot(figsize=(20, 20))"
   ]
  }
 ],
 "metadata": {
  "kernelspec": {
   "display_name": "Python 3",
   "language": "python",
   "name": "python3"
  },
  "language_info": {
   "codemirror_mode": {
    "name": "ipython",
    "version": 3
   },
   "file_extension": ".py",
   "mimetype": "text/x-python",
   "name": "python",
   "nbconvert_exporter": "python",
   "pygments_lexer": "ipython3",
   "version": "3.9.13"
  },
  "orig_nbformat": 4
 },
 "nbformat": 4,
 "nbformat_minor": 2
}
